{
  "cells": [
    {
      "cell_type": "markdown",
      "id": "42289889-bd57-434e-9637-d3e354756316",
      "metadata": {
        "id": "42289889-bd57-434e-9637-d3e354756316"
      },
      "source": [
        "<center> <img src = https://raw.githubusercontent.com/AndreyRysistov/DatasetsForPandas/main/hh%20label.jpg alt=\"drawing\" style=\"width:400px;\">"
      ]
    },
    {
      "cell_type": "markdown",
      "id": "829cb75b-f14e-4ba8-9195-7ba929a7d656",
      "metadata": {
        "id": "829cb75b-f14e-4ba8-9195-7ba929a7d656",
        "tags": []
      },
      "source": [
        "# <center> Проект: Анализ вакансий из HeadHunter\n",
        "   "
      ]
    },
    {
      "cell_type": "code",
      "execution_count": 1,
      "id": "dccfde33-2452-43fb-a8a5-5c6ebc02a71d",
      "metadata": {
        "id": "dccfde33-2452-43fb-a8a5-5c6ebc02a71d"
      },
      "outputs": [],
      "source": [
        "import pandas as pd\n",
        "import psycopg2\n",
        "import numpy as np"
      ]
    },
    {
      "cell_type": "code",
      "execution_count": 2,
      "id": "oVKH4ehvf8Ay",
      "metadata": {
        "id": "oVKH4ehvf8Ay"
      },
      "outputs": [],
      "source": [
        "DBNAME = 'project_sql'\n",
        "USER = 'skillfactory'\n",
        "PASSWORD = 'cCkxxLVrDE8EbvjueeMedPKt'\n",
        "HOST = '84.201.134.129'\n",
        "PORT = 5432"
      ]
    },
    {
      "cell_type": "code",
      "execution_count": 3,
      "id": "G4X_q8KBf7SF",
      "metadata": {
        "id": "G4X_q8KBf7SF"
      },
      "outputs": [],
      "source": [
        "connection = psycopg2.connect(\n",
        "    dbname=DBNAME,\n",
        "    user=USER,\n",
        "    host=HOST,\n",
        "    password=PASSWORD,\n",
        "    port=PORT\n",
        ")"
      ]
    },
    {
      "cell_type": "markdown",
      "id": "0dc6476b-7a00-44f1-ac93-6e3baed33a29",
      "metadata": {
        "id": "0dc6476b-7a00-44f1-ac93-6e3baed33a29"
      },
      "source": [
        "# Юнит 3. Предварительный анализ данных"
      ]
    },
    {
      "cell_type": "markdown",
      "id": "889782b6-8d1c-410e-8920-e57f27917c64",
      "metadata": {
        "id": "889782b6-8d1c-410e-8920-e57f27917c64"
      },
      "source": [
        "1. Напишите запрос, который посчитает количество вакансий в нашей базе (вакансии находятся в таблице vacancies). "
      ]
    },
    {
      "cell_type": "code",
      "execution_count": 4,
      "id": "bc39e68e-ed02-4ee2-9235-7258a2f867a8",
      "metadata": {
        "id": "bc39e68e-ed02-4ee2-9235-7258a2f867a8"
      },
      "outputs": [
        {
          "name": "stderr",
          "output_type": "stream",
          "text": [
            "C:\\Users\\Asus\\AppData\\Local\\Temp\\ipykernel_4844\\4011903300.py:4: UserWarning: pandas only supports SQLAlchemy connectable (engine/connection) or database string URI or sqlite3 DBAPI2 connection. Other DBAPI2 objects are not tested. Please consider using SQLAlchemy.\n",
            "  df_vacancies=pd.read_sql_query(query, connection)\n"
          ]
        },
        {
          "name": "stdout",
          "output_type": "stream",
          "text": [
            "кол-во вакансий в нашей базе    count\n",
            "0  49197\n"
          ]
        }
      ],
      "source": [
        "query = f'''select count(id)\n",
        "                from public.vacancies\n",
        "            '''\n",
        "df_vacancies=pd.read_sql_query(query, connection)\n",
        "print(f\"кол-во вакансий в нашей базе {df_vacancies}\")"
      ]
    },
    {
      "cell_type": "markdown",
      "id": "b583485d-1f9e-494e-ada4-80ffff7c53d6",
      "metadata": {
        "id": "b583485d-1f9e-494e-ada4-80ffff7c53d6"
      },
      "source": [
        "2. Напишите запрос, который посчитает количество работодателей (таблица employers). "
      ]
    },
    {
      "cell_type": "code",
      "execution_count": 5,
      "metadata": {},
      "outputs": [
        {
          "name": "stdout",
          "output_type": "stream",
          "text": [
            "кол-во работодателей в нашей базе    count\n",
            "0  23501\n"
          ]
        },
        {
          "name": "stderr",
          "output_type": "stream",
          "text": [
            "C:\\Users\\Asus\\AppData\\Local\\Temp\\ipykernel_4844\\3259996775.py:12: UserWarning: pandas only supports SQLAlchemy connectable (engine/connection) or database string URI or sqlite3 DBAPI2 connection. Other DBAPI2 objects are not tested. Please consider using SQLAlchemy.\n",
            "  df_employers=pd.read_sql_query(query, connection)\n"
          ]
        }
      ],
      "source": [
        "connection = psycopg2.connect(\n",
        "    dbname=DBNAME,\n",
        "    user=USER,\n",
        "    host=HOST,\n",
        "    password=PASSWORD,\n",
        "    port=PORT\n",
        ")\n",
        "\n",
        "query = f'''select count(id)\n",
        "                from public.employers\n",
        "            '''\n",
        "df_employers=pd.read_sql_query(query, connection)\n",
        "print(f\"кол-во работодателей в нашей базе {df_employers}\")\n",
        "\n",
        "connection.close()"
      ]
    },
    {
      "cell_type": "markdown",
      "id": "a2bfff1f-c975-4bf6-84be-2185d79dcb76",
      "metadata": {
        "id": "a2bfff1f-c975-4bf6-84be-2185d79dcb76"
      },
      "source": [
        "3. Посчитате с помощью запроса количество регионов (таблица areas)."
      ]
    },
    {
      "cell_type": "code",
      "execution_count": 6,
      "id": "1m8QJwBYhey6",
      "metadata": {
        "id": "1m8QJwBYhey6"
      },
      "outputs": [
        {
          "name": "stdout",
          "output_type": "stream",
          "text": [
            "кол-во регионов в нашей базе    count\n",
            "0   1362\n"
          ]
        },
        {
          "name": "stderr",
          "output_type": "stream",
          "text": [
            "C:\\Users\\Asus\\AppData\\Local\\Temp\\ipykernel_4844\\2101340145.py:12: UserWarning: pandas only supports SQLAlchemy connectable (engine/connection) or database string URI or sqlite3 DBAPI2 connection. Other DBAPI2 objects are not tested. Please consider using SQLAlchemy.\n",
            "  df_areas=pd.read_sql_query(query, connection)\n"
          ]
        }
      ],
      "source": [
        "connection = psycopg2.connect(\n",
        "    dbname=DBNAME,\n",
        "    user=USER,\n",
        "    host=HOST,\n",
        "    password=PASSWORD,\n",
        "    port=PORT\n",
        ")\n",
        "\n",
        "query = f'''select count(id)\n",
        "            from public.areas\n",
        "        '''\n",
        "df_areas=pd.read_sql_query(query, connection)\n",
        "print (f\"кол-во регионов в нашей базе {df_areas}\")\n",
        "\n",
        "connection.close()"
      ]
    },
    {
      "cell_type": "markdown",
      "id": "41bb59f3-53cc-4a67-a5bc-bedf573955e4",
      "metadata": {
        "id": "41bb59f3-53cc-4a67-a5bc-bedf573955e4"
      },
      "source": [
        "4. Посчитате с помощью запроса количество сфер деятельности в базе (таблица industries)."
      ]
    },
    {
      "cell_type": "code",
      "execution_count": 7,
      "id": "d286cf4c-707b-4cd2-9190-7ab3587d04a1",
      "metadata": {
        "id": "d286cf4c-707b-4cd2-9190-7ab3587d04a1"
      },
      "outputs": [
        {
          "name": "stdout",
          "output_type": "stream",
          "text": [
            "кол-во сфер деятельности в базе    count\n",
            "0    294\n"
          ]
        },
        {
          "name": "stderr",
          "output_type": "stream",
          "text": [
            "C:\\Users\\Asus\\AppData\\Local\\Temp\\ipykernel_4844\\3827088732.py:12: UserWarning: pandas only supports SQLAlchemy connectable (engine/connection) or database string URI or sqlite3 DBAPI2 connection. Other DBAPI2 objects are not tested. Please consider using SQLAlchemy.\n",
            "  df_industies=pd.read_sql_query(query, connection)\n"
          ]
        }
      ],
      "source": [
        "connection=psycopg2.connect(\n",
        "    dbname=DBNAME,\n",
        "    user=USER,\n",
        "    host=HOST,\n",
        "    password=PASSWORD,\n",
        "    port=PORT\n",
        ")\n",
        "\n",
        "query = f'''select count(id)\n",
        "            from public.industries\n",
        "        '''\n",
        "df_industies=pd.read_sql_query(query, connection)\n",
        "print(f\"кол-во сфер деятельности в базе {df_industies}\")\n",
        "\n",
        "connection.close()"
      ]
    },
    {
      "cell_type": "markdown",
      "id": "9a8a2181-6914-448b-85f1-38f5f18b8a93",
      "metadata": {
        "id": "9a8a2181-6914-448b-85f1-38f5f18b8a93"
      },
      "source": [
        "***"
      ]
    },
    {
      "cell_type": "markdown",
      "metadata": {},
      "source": [
        "### Предварительные выводы ####\n",
        "Сложно сделать на данном этапе какие-то выводы. В среднем на каждого работодателя приходтся по две вакансии(опять же, в среднем), правда непонятно как это можно использовать на данном этапе."
      ]
    },
    {
      "cell_type": "markdown",
      "id": "8d62a9f3-f64e-4fe7-bdac-c4dffa16155e",
      "metadata": {
        "id": "8d62a9f3-f64e-4fe7-bdac-c4dffa16155e"
      },
      "source": [
        "# Юнит 4. Детальный анализ вакансий"
      ]
    },
    {
      "cell_type": "markdown",
      "id": "93053d3d-b284-481a-9cf7-012d7014c0e0",
      "metadata": {
        "id": "93053d3d-b284-481a-9cf7-012d7014c0e0"
      },
      "source": [
        "1. Напишите запрос, который позволит узнать, сколько (cnt) вакансий в каждом регионе (area).\n",
        "Отсортируйте по количеству вакансий в порядке убывания."
      ]
    },
    {
      "cell_type": "code",
      "execution_count": 8,
      "id": "3f069da6-fdc9-4ae7-b514-fafe2675efd3",
      "metadata": {
        "id": "3f069da6-fdc9-4ae7-b514-fafe2675efd3"
      },
      "outputs": [
        {
          "name": "stderr",
          "output_type": "stream",
          "text": [
            "C:\\Users\\Asus\\AppData\\Local\\Temp\\ipykernel_4844\\2392627247.py:18: UserWarning: pandas only supports SQLAlchemy connectable (engine/connection) or database string URI or sqlite3 DBAPI2 connection. Other DBAPI2 objects are not tested. Please consider using SQLAlchemy.\n",
            "  df_vacancies=pd.read_sql_query(query, connection)\n"
          ]
        },
        {
          "name": "stdout",
          "output_type": "stream",
          "text": [
            "        areas_name  кол-во вакансий\n",
            "0           Москва             5333\n",
            "1  Санкт-Петербург             2851\n",
            "2            Минск             2112\n",
            "3      Новосибирск             2006\n",
            "4           Алматы             1892\n"
          ]
        }
      ],
      "source": [
        "connection=psycopg2.connect(\n",
        "    dbname=DBNAME,\n",
        "    user=USER,\n",
        "    host=HOST,\n",
        "    password=PASSWORD,\n",
        "    port=PORT\n",
        ")\n",
        "\n",
        "query = f'''select a.name as areas_name,\n",
        "            count(vac.id) as \"кол-во вакансий\"\n",
        "            from \n",
        "                public.areas a\n",
        "            join public.vacancies vac on a.id=vac.area_id\n",
        "            group by areas_name\n",
        "            order by 2 desc\n",
        "            limit 5\n",
        "        '''\n",
        "df_vacancies=pd.read_sql_query(query, connection)\n",
        "print(df_vacancies)\n",
        "\n",
        "connection.close()"
      ]
    },
    {
      "cell_type": "markdown",
      "id": "4266f0b6-1646-492a-88b4-2f6a46502135",
      "metadata": {
        "id": "4266f0b6-1646-492a-88b4-2f6a46502135"
      },
      "source": [
        "2. Напишите запрос, чтобы определить у какого количества вакансий заполнено хотя бы одно из двух полей с зарплатой."
      ]
    },
    {
      "cell_type": "code",
      "execution_count": 9,
      "id": "0c44b350-72eb-4d65-8b54-a1fc449ba9fd",
      "metadata": {
        "id": "0c44b350-72eb-4d65-8b54-a1fc449ba9fd"
      },
      "outputs": [
        {
          "name": "stdout",
          "output_type": "stream",
          "text": [
            "   count\n",
            "0  24073\n"
          ]
        },
        {
          "name": "stderr",
          "output_type": "stream",
          "text": [
            "C:\\Users\\Asus\\AppData\\Local\\Temp\\ipykernel_4844\\3328635196.py:14: UserWarning: pandas only supports SQLAlchemy connectable (engine/connection) or database string URI or sqlite3 DBAPI2 connection. Other DBAPI2 objects are not tested. Please consider using SQLAlchemy.\n",
            "  df_vacancies=pd.read_sql_query(query, connection)\n"
          ]
        }
      ],
      "source": [
        "connection=psycopg2.connect(\n",
        "    dbname=DBNAME,\n",
        "    user=USER,\n",
        "    host=HOST,\n",
        "    password=PASSWORD,\n",
        "    port=PORT\n",
        ")\n",
        "\n",
        "query = f'''select COUNT(vacancies.id)\n",
        "            from \n",
        "                public.vacancies\n",
        "            where salary_from IS NOT NULL or salary_to IS NOT NULL\n",
        "        '''\n",
        "df_vacancies=pd.read_sql_query(query, connection)\n",
        "print(df_vacancies)\n",
        "\n",
        "connection.close()"
      ]
    },
    {
      "cell_type": "markdown",
      "id": "635c4d5d-f323-4c66-b428-50a088120aa0",
      "metadata": {
        "id": "635c4d5d-f323-4c66-b428-50a088120aa0"
      },
      "source": [
        "3. Найдите средние значения для нижней и верхней границы зарплатной вилки. Округлите значения до целого."
      ]
    },
    {
      "cell_type": "code",
      "execution_count": 10,
      "id": "603cdbe4-0ec3-4106-8eaf-c73fcdd29165",
      "metadata": {
        "id": "603cdbe4-0ec3-4106-8eaf-c73fcdd29165"
      },
      "outputs": [
        {
          "name": "stdout",
          "output_type": "stream",
          "text": [
            "   average from  average to\n",
            "0       71065.0    110537.0\n"
          ]
        },
        {
          "name": "stderr",
          "output_type": "stream",
          "text": [
            "C:\\Users\\Asus\\AppData\\Local\\Temp\\ipykernel_4844\\1770448707.py:14: UserWarning: pandas only supports SQLAlchemy connectable (engine/connection) or database string URI or sqlite3 DBAPI2 connection. Other DBAPI2 objects are not tested. Please consider using SQLAlchemy.\n",
            "  df_vacancies=pd.read_sql_query(query, connection)\n"
          ]
        }
      ],
      "source": [
        "connection=psycopg2.connect(\n",
        "    dbname=DBNAME,\n",
        "    user=USER,\n",
        "    host=HOST,\n",
        "    password=PASSWORD,\n",
        "    port=PORT\n",
        ")\n",
        "\n",
        "query = f'''select round(AVG(VACANCIES.salary_from)) as \"average from\",\n",
        "            round(AVG(VACANCIES.salary_to)) as \"average to\"\n",
        "            from \n",
        "                public.vacancies\n",
        "        '''\n",
        "df_vacancies=pd.read_sql_query(query, connection)\n",
        "print(df_vacancies)\n",
        "\n",
        "connection.close()"
      ]
    },
    {
      "cell_type": "markdown",
      "id": "f3fdaec9-5fd3-4260-9cf5-1d7406b628a5",
      "metadata": {
        "id": "f3fdaec9-5fd3-4260-9cf5-1d7406b628a5"
      },
      "source": [
        "4. Напишите запрос, который выведет количество вакансий для каждого сочетания типа рабочего графика (schedule) и типа трудоустройства (employment), используемого в вакансиях. Результат отсортируйте по убыванию количества.\n"
      ]
    },
    {
      "cell_type": "code",
      "execution_count": 11,
      "id": "1ea710ec-871b-431e-9462-c7d0fd87011b",
      "metadata": {
        "id": "1ea710ec-871b-431e-9462-c7d0fd87011b"
      },
      "outputs": [
        {
          "name": "stderr",
          "output_type": "stream",
          "text": [
            "C:\\Users\\Asus\\AppData\\Local\\Temp\\ipykernel_4844\\3945815196.py:16: UserWarning: pandas only supports SQLAlchemy connectable (engine/connection) or database string URI or sqlite3 DBAPI2 connection. Other DBAPI2 objects are not tested. Please consider using SQLAlchemy.\n",
            "  df_vacancies=pd.read_sql_query(query, connection)\n"
          ]
        },
        {
          "name": "stdout",
          "output_type": "stream",
          "text": [
            "              schdlr               employ\n",
            "0   Удаленная работа     Полная занятость\n",
            "1   Удаленная работа           Стажировка\n",
            "2   Удаленная работа  Частичная занятость\n",
            "3   Удаленная работа     Проектная работа\n",
            "4     Сменный график           Стажировка\n",
            "5     Сменный график     Полная занятость\n",
            "6     Сменный график     Проектная работа\n",
            "7     Сменный график  Частичная занятость\n",
            "8        Полный день     Проектная работа\n",
            "9        Полный день           Стажировка\n",
            "10       Полный день     Полная занятость\n",
            "11       Полный день  Частичная занятость\n",
            "12     Гибкий график           Стажировка\n",
            "13     Гибкий график     Проектная работа\n",
            "14     Гибкий график     Полная занятость\n",
            "15     Гибкий график  Частичная занятость\n",
            "16    Вахтовый метод     Полная занятость\n",
            "17    Вахтовый метод     Проектная работа\n"
          ]
        }
      ],
      "source": [
        "connection=psycopg2.connect(\n",
        "    dbname=DBNAME,\n",
        "    user=USER,\n",
        "    host=HOST,\n",
        "    password=PASSWORD,\n",
        "    port=PORT\n",
        ")\n",
        "\n",
        "query = f'''select VACANCIES.schedule as schdlr,\n",
        "            VACANCIES.employment as employ\n",
        "            from \n",
        "                public.VACANCIES\n",
        "            group by schdlr, employ\n",
        "            order by 1 DESC\n",
        "        '''\n",
        "df_vacancies=pd.read_sql_query(query, connection)\n",
        "print(df_vacancies)\n",
        "\n",
        "connection.close()"
      ]
    },
    {
      "cell_type": "markdown",
      "id": "0136ffee-0ead-4a6b-b608-61d1c753a438",
      "metadata": {
        "id": "0136ffee-0ead-4a6b-b608-61d1c753a438"
      },
      "source": [
        "5. Напишите запрос, выводящий значения поля Требуемый опыт работы (experience) в порядке возрастания количества вакансий, в которых указан данный вариант опыта. "
      ]
    },
    {
      "cell_type": "code",
      "execution_count": 12,
      "id": "5b3a8e79-f7ab-4008-b767-12aea3a205ea",
      "metadata": {
        "id": "5b3a8e79-f7ab-4008-b767-12aea3a205ea"
      },
      "outputs": [
        {
          "name": "stderr",
          "output_type": "stream",
          "text": [
            "C:\\Users\\Asus\\AppData\\Local\\Temp\\ipykernel_4844\\2006122938.py:15: UserWarning: pandas only supports SQLAlchemy connectable (engine/connection) or database string URI or sqlite3 DBAPI2 connection. Other DBAPI2 objects are not tested. Please consider using SQLAlchemy.\n",
            "  df_vacancies=pd.read_sql_query(query, connection)\n"
          ]
        },
        {
          "name": "stdout",
          "output_type": "stream",
          "text": [
            "                  exp\n",
            "0         Более 6 лет\n",
            "1           Нет опыта\n",
            "2       От 3 до 6 лет\n",
            "3  От 1 года до 3 лет\n"
          ]
        }
      ],
      "source": [
        "connection=psycopg2.connect(\n",
        "    dbname=DBNAME,\n",
        "    user=USER,\n",
        "    host=HOST,\n",
        "    password=PASSWORD,\n",
        "    port=PORT\n",
        ")\n",
        "\n",
        "query = f'''select VACANCIES.experience as exp\n",
        "            from\n",
        "                public.VACANCIES\n",
        "            group by exp\n",
        "            order by COUNT(VACANCIES.id) ASC\n",
        "        '''\n",
        "df_vacancies=pd.read_sql_query(query, connection)\n",
        "print(df_vacancies)\n",
        "\n",
        "connection.close()"
      ]
    },
    {
      "cell_type": "markdown",
      "id": "oq2b7n1QpIka",
      "metadata": {
        "id": "oq2b7n1QpIka"
      },
      "source": [
        "***"
      ]
    },
    {
      "cell_type": "code",
      "execution_count": 13,
      "id": "e91f87ed-e25c-4f96-9f92-b642e8c0b4fa",
      "metadata": {
        "id": "e91f87ed-e25c-4f96-9f92-b642e8c0b4fa"
      },
      "outputs": [],
      "source": [
        "# 1. Практически 1/5 вакансий территориально находятся Москва + Санкт-Петербург \n",
        "# 2. Около 48% вакансий не имеют чёткой границы по ЗП (либо низ вилки отсут-ет, либо верх)\n",
        "# 3. Удаленный рабочий график - самый распространенный график среди вакансий, причем на при любом типе трудоустройства\n",
        "# 4. Если я правильно понял: средняя ЗП по предлагаемым вакансиям около 950$\n",
        "# 5. Судя по требованиям к опыту работы, зачастую, работодатели ищут уже готового специалиста, чтобы не вкладыватся в него, \n",
        "# либо совсем сырого - \"Проще научить работать человека, чем переучить его\"."
      ]
    },
    {
      "cell_type": "markdown",
      "id": "7ea20ab6-04a7-40a0-adec-443a0e5a42c3",
      "metadata": {
        "id": "7ea20ab6-04a7-40a0-adec-443a0e5a42c3"
      },
      "source": [
        "# Юнит 5. Анализ работодателей"
      ]
    },
    {
      "cell_type": "markdown",
      "id": "968aed80-74ef-4ffb-b5bf-c65b84e9caea",
      "metadata": {
        "id": "968aed80-74ef-4ffb-b5bf-c65b84e9caea"
      },
      "source": [
        "1. Напишите запрос, который позволит узнать, какие работодатели находятся на первом и пятом месте по количеству вакансий."
      ]
    },
    {
      "cell_type": "code",
      "execution_count": 14,
      "id": "f2d62796-d400-4ec1-a675-88112739a50e",
      "metadata": {
        "id": "f2d62796-d400-4ec1-a675-88112739a50e"
      },
      "outputs": [
        {
          "name": "stderr",
          "output_type": "stream",
          "text": [
            "C:\\Users\\Asus\\AppData\\Local\\Temp\\ipykernel_4844\\2927984729.py:28: UserWarning: pandas only supports SQLAlchemy connectable (engine/connection) or database string URI or sqlite3 DBAPI2 connection. Other DBAPI2 objects are not tested. Please consider using SQLAlchemy.\n",
            "  df_employers=pd.read_sql_query(query, connection)\n"
          ]
        },
        {
          "name": "stdout",
          "output_type": "stream",
          "text": [
            "  Компания-работодатель  Кол-во вакансий\n",
            "0         Газпром нефть              331\n",
            "1                Яндекс             1933\n"
          ]
        }
      ],
      "source": [
        "connection=psycopg2.connect(\n",
        "    dbname=DBNAME,\n",
        "    user=USER,\n",
        "    host=HOST,\n",
        "    password=PASSWORD,\n",
        "    port=PORT\n",
        ")\n",
        "\n",
        "query=f'''(SELECT EMPLOYERS.name as \"Компания-работодатель\",\n",
        "        COUNT(VACANCIES.id) as \"Кол-во вакансий\"\n",
        "        from\n",
        "            public.EMPLOYERS\n",
        "        join public.VACANCIES on VACANCIES.employer_id=EMPLOYERS.id\n",
        "        GROUP BY EMPLOYERS.name\n",
        "        ORDER BY 2 DESC\n",
        "        LIMIT 1)\n",
        "        UNION\n",
        "        (SELECT EMPLOYERS.name as \"Компания-работодатель\",\n",
        "        COUNT(VACANCIES.id) as \"Кол-во вакансий\"\n",
        "        from\n",
        "            public.EMPLOYERS\n",
        "        join public.VACANCIES on VACANCIES.employer_id=EMPLOYERS.id\n",
        "        GROUP BY EMPLOYERS.name\n",
        "        ORDER BY 2 DESC\n",
        "        LIMIT 1\n",
        "        OFFSET 4)\n",
        "        '''\n",
        "df_employers=pd.read_sql_query(query, connection)\n",
        "print(df_employers)\n",
        "\n",
        "connection.close()"
      ]
    },
    {
      "cell_type": "markdown",
      "id": "68377cfc-b378-43dc-ab7d-1195abf2c515",
      "metadata": {
        "id": "68377cfc-b378-43dc-ab7d-1195abf2c515"
      },
      "source": [
        "2. Напишите запрос, который для каждого региона выведет количество работодателей и вакансий в нём.\n",
        "Среди регионов, в которых нет вакансий, найдите тот, в котором наибольшее количество работодателей.\n"
      ]
    },
    {
      "cell_type": "code",
      "execution_count": 15,
      "id": "dd7df27a-e3e8-412e-a21a-5d389b71e891",
      "metadata": {
        "id": "dd7df27a-e3e8-412e-a21a-5d389b71e891"
      },
      "outputs": [
        {
          "name": "stderr",
          "output_type": "stream",
          "text": [
            "C:\\Users\\Asus\\AppData\\Local\\Temp\\ipykernel_4844\\2428386100.py:22: UserWarning: pandas only supports SQLAlchemy connectable (engine/connection) or database string URI or sqlite3 DBAPI2 connection. Other DBAPI2 objects are not tested. Please consider using SQLAlchemy.\n",
            "  df_employers_and_area=pd.read_sql_query(query, connection)\n"
          ]
        },
        {
          "name": "stdout",
          "output_type": "stream",
          "text": [
            "          имя региона  число работ-ей  число вакансий\n",
            "0              Россия             410               0\n",
            "1           Казахстан             207               0\n",
            "2  Московская область              75               0\n"
          ]
        }
      ],
      "source": [
        "connection=psycopg2.connect(\n",
        "    dbname=DBNAME,\n",
        "    user=USER,\n",
        "    host=HOST,\n",
        "    password=PASSWORD,\n",
        "    port=PORT\n",
        ")\n",
        "\n",
        "query=f'''SELECT AREAS.name as \"имя региона\",\n",
        "        COUNT(DISTINCT EMPLOYERS.id) as \"число работ-ей\",\n",
        "        COUNT(DISTINCT VACANCIES.id) as \"число вакансий\"\n",
        "        from\n",
        "            public.AREAS\n",
        "        left join public.EMPLOYERS EMPLOYERS ON EMPLOYERS.area=areas.id\n",
        "        left join public.VACANCIES VACANCIES ON VACANCIES.area_id=areas.id\n",
        "        WHERE VACANCIES.id IS NULL\n",
        "        GROUP BY AREAS.name\n",
        "        ORDER BY 2 DESC\n",
        "        LIMIT 3\n",
        "        '''\n",
        "\n",
        "df_employers_and_area=pd.read_sql_query(query, connection)\n",
        "print(df_employers_and_area)\n",
        "\n",
        "connection.close()"
      ]
    },
    {
      "cell_type": "markdown",
      "id": "f2fe0acb-ab1a-4e15-9326-2560e22d73c1",
      "metadata": {
        "id": "f2fe0acb-ab1a-4e15-9326-2560e22d73c1"
      },
      "source": [
        "3. Для каждого работодателя посчитайте количество регионов, в которых он публикует свои вакансии. Отсортируйте результат по убыванию количества.\n"
      ]
    },
    {
      "cell_type": "code",
      "execution_count": 16,
      "id": "6271f8ad-bd2e-4196-ae4a-5b39c4c1010e",
      "metadata": {
        "id": "6271f8ad-bd2e-4196-ae4a-5b39c4c1010e"
      },
      "outputs": [
        {
          "name": "stderr",
          "output_type": "stream",
          "text": [
            "C:\\Users\\Asus\\AppData\\Local\\Temp\\ipykernel_4844\\2058510127.py:18: UserWarning: pandas only supports SQLAlchemy connectable (engine/connection) or database string URI or sqlite3 DBAPI2 connection. Other DBAPI2 objects are not tested. Please consider using SQLAlchemy.\n",
            "  df_employers_vacancies=pd.read_sql_query(query, connection)\n"
          ]
        },
        {
          "name": "stdout",
          "output_type": "stream",
          "text": [
            "             имя работодателя  кол-во регионов\n",
            "0                      Яндекс              181\n",
            "1                  Ростелеком              152\n",
            "2                  Спецремонт              116\n",
            "3      Поляков Денис Иванович               88\n",
            "4                   ООО ЕФИН                71\n",
            "...                       ...              ...\n",
            "14761                  UniSol                1\n",
            "14762            UNISTORY LLC                1\n",
            "14763                   UNIT6                1\n",
            "14764     United Distribution                1\n",
            "14765              UNITEL LLC                1\n",
            "\n",
            "[14766 rows x 2 columns]\n"
          ]
        }
      ],
      "source": [
        "connection=psycopg2.connect(\n",
        "    dbname=DBNAME,\n",
        "    user=USER,\n",
        "    host=HOST,\n",
        "    password=PASSWORD,\n",
        "    port=PORT\n",
        ")\n",
        "\n",
        "query=f'''select E.name as \"имя работодателя\",\n",
        "        COUNT(DISTINCT V.area_id) as \"кол-во регионов\"\n",
        "        from\n",
        "            public.VACANCIES V\n",
        "        left join public.EMPLOYERS E on V.employer_id=E.id\n",
        "        group by E.name\n",
        "        order by 2 DESC\n",
        "        '''\n",
        "\n",
        "df_employers_vacancies=pd.read_sql_query(query, connection)\n",
        "print(df_employers_vacancies)\n",
        "\n",
        "connection.close()"
      ]
    },
    {
      "cell_type": "markdown",
      "id": "eab2206d-d95b-468b-8e5f-34381abf0ce7",
      "metadata": {
        "id": "eab2206d-d95b-468b-8e5f-34381abf0ce7"
      },
      "source": [
        "4. Напишите запрос для подсчёта количества работодателей, у которых не указана сфера деятельности. "
      ]
    },
    {
      "cell_type": "code",
      "execution_count": 17,
      "id": "80defb23-bfb1-4a18-8be6-bf36aa7165d5",
      "metadata": {
        "id": "80defb23-bfb1-4a18-8be6-bf36aa7165d5"
      },
      "outputs": [
        {
          "name": "stdout",
          "output_type": "stream",
          "text": [
            "   count\n",
            "0   8419\n"
          ]
        },
        {
          "name": "stderr",
          "output_type": "stream",
          "text": [
            "C:\\Users\\Asus\\AppData\\Local\\Temp\\ipykernel_4844\\3236155625.py:16: UserWarning: pandas only supports SQLAlchemy connectable (engine/connection) or database string URI or sqlite3 DBAPI2 connection. Other DBAPI2 objects are not tested. Please consider using SQLAlchemy.\n",
            "  df_employers_zero_indust=pd.read_sql_query(query, connection)\n"
          ]
        }
      ],
      "source": [
        "connection=psycopg2.connect(\n",
        "    dbname=DBNAME,\n",
        "    host=HOST,\n",
        "    password=PASSWORD,\n",
        "    user=USER,\n",
        "    port=PORT\n",
        ")\n",
        "\n",
        "query=f'''select COUNT(*)\n",
        "        from\n",
        "            public.employers E\n",
        "        left join public.employers_industries EI on E.id=EI.employer_id\n",
        "        where EI.employer_id IS NULL\n",
        "        '''\n",
        "\n",
        "df_employers_zero_indust=pd.read_sql_query(query, connection)\n",
        "print (df_employers_zero_indust)\n",
        "\n",
        "connection.close()"
      ]
    },
    {
      "cell_type": "markdown",
      "id": "0112af31-f6b0-4e3b-82ab-71296e752e5e",
      "metadata": {
        "id": "0112af31-f6b0-4e3b-82ab-71296e752e5e"
      },
      "source": [
        "5. Напишите запрос, чтобы узнать название компании, находящейся на третьем месте в алфавитном списке (по названию) компаний, у которых указано четыре сферы деятельности. "
      ]
    },
    {
      "cell_type": "code",
      "execution_count": 18,
      "id": "973b0cfc-a972-470a-8b4a-68744ef220c4",
      "metadata": {
        "id": "973b0cfc-a972-470a-8b4a-68744ef220c4"
      },
      "outputs": [
        {
          "name": "stderr",
          "output_type": "stream",
          "text": [
            "C:\\Users\\Asus\\AppData\\Local\\Temp\\ipykernel_4844\\4202798296.py:18: UserWarning: pandas only supports SQLAlchemy connectable (engine/connection) or database string URI or sqlite3 DBAPI2 connection. Other DBAPI2 objects are not tested. Please consider using SQLAlchemy.\n",
            "  df_third_place_empl=pd.read_sql_query(query, connection)\n"
          ]
        },
        {
          "name": "stdout",
          "output_type": "stream",
          "text": [
            "                 name\n",
            "0        101 Интернет\n",
            "1            21vek.by\n",
            "2                2ГИС\n",
            "3                  2К\n",
            "4         4 пикселя +\n",
            "...               ...\n",
            "1133            ЮРИОН\n",
            "1134  ЮТИП Технологии\n",
            "1135           ЯКласс\n",
            "1136            ЯрНео\n",
            "1137    Яшин&Партнёры\n",
            "\n",
            "[1138 rows x 1 columns]\n"
          ]
        }
      ],
      "source": [
        "connection=psycopg2.connect(\n",
        "    dbname=DBNAME,\n",
        "    password=PASSWORD,\n",
        "    user=USER,\n",
        "    host=HOST,\n",
        "    port=PORT\n",
        ")\n",
        "\n",
        "query=f'''select E.name\n",
        "        from\n",
        "            public.employers E\n",
        "        left join public.employers_industries AS EI on E.id=EI.employer_id\n",
        "        group by E.id\n",
        "        HAVING COUNT(EI.industry_id)=4\n",
        "        ORDER BY 1\n",
        "        '''\n",
        "\n",
        "df_third_place_empl=pd.read_sql_query(query, connection)\n",
        "print(df_third_place_empl)\n",
        "\n",
        "connection.close()"
      ]
    },
    {
      "cell_type": "markdown",
      "id": "3bfcfdaf-755d-4d2b-8ed8-326201dc07ab",
      "metadata": {
        "id": "3bfcfdaf-755d-4d2b-8ed8-326201dc07ab"
      },
      "source": [
        "6. С помощью запроса выясните, у какого количества работодателей в качестве сферы деятельности указана Разработка программного обеспечения.\n"
      ]
    },
    {
      "cell_type": "code",
      "execution_count": 19,
      "id": "ad3f270f-2991-47eb-929b-e8f88a55b0d1",
      "metadata": {
        "id": "ad3f270f-2991-47eb-929b-e8f88a55b0d1"
      },
      "outputs": [
        {
          "name": "stderr",
          "output_type": "stream",
          "text": [
            "C:\\Users\\Asus\\AppData\\Local\\Temp\\ipykernel_4844\\413972456.py:16: UserWarning: pandas only supports SQLAlchemy connectable (engine/connection) or database string URI or sqlite3 DBAPI2 connection. Other DBAPI2 objects are not tested. Please consider using SQLAlchemy.\n",
            "  df_employers_IT=pd.read_sql_query(query, connection)\n"
          ]
        },
        {
          "name": "stdout",
          "output_type": "stream",
          "text": [
            "   count\n",
            "0   3553\n"
          ]
        }
      ],
      "source": [
        "connection=psycopg2.connect(\n",
        "    dbname=DBNAME,\n",
        "    host=HOST,\n",
        "    user=USER,\n",
        "    password=PASSWORD,\n",
        "    port=PORT\n",
        ")\n",
        "\n",
        "query=f'''select COUNT(EI.employer_id)\n",
        "        from \n",
        "            public.employers_industries EI\n",
        "        join public.industries AS I on EI.industry_id=I.id\n",
        "        where I.name LIKE 'Разработка программного обес%'\n",
        "        '''\n",
        "\n",
        "df_employers_IT=pd.read_sql_query(query, connection)\n",
        "print(df_employers_IT)\n",
        "\n",
        "connection.close()"
      ]
    },
    {
      "cell_type": "markdown",
      "id": "7b02bb86-0546-40fb-94a4-242f050a5c57",
      "metadata": {
        "id": "7b02bb86-0546-40fb-94a4-242f050a5c57"
      },
      "source": [
        "7. Для компании «Яндекс» выведите список регионов-миллионников, в которых представлены вакансии компании, вместе с количеством вакансий в этих регионах. Также добавьте строку Total с общим количеством вакансий компании. Результат отсортируйте по возрастанию количества.\n",
        "\n",
        "Список городов-милионников надо взять [отсюда](https://ru.wikipedia.org/wiki/%D0%93%D0%BE%D1%80%D0%BE%D0%B4%D0%B0-%D0%BC%D0%B8%D0%BB%D0%BB%D0%B8%D0%BE%D0%BD%D0%B5%D1%80%D1%8B_%D0%A0%D0%BE%D1%81%D1%81%D0%B8%D0%B8). \n",
        "\n",
        "Если возникнут трудности с этим задание посмотрите материалы модуля  PYTHON-17. Как получать данные из веб-источников и API. "
      ]
    },
    {
      "cell_type": "code",
      "execution_count": 20,
      "id": "ZdfrL6gIs1Pn",
      "metadata": {
        "id": "ZdfrL6gIs1Pn"
      },
      "outputs": [
        {
          "data": {
            "text/plain": [
              "('Москва',\n",
              " 'Санкт-Петербург',\n",
              " 'Новосибирск',\n",
              " 'Екатеринбург',\n",
              " 'Казань',\n",
              " 'Нижний Новгород',\n",
              " 'Красноярск',\n",
              " 'Челябинск',\n",
              " 'Самара',\n",
              " 'Уфа',\n",
              " 'Ростов-на-Дону',\n",
              " 'Краснодар',\n",
              " 'Омск',\n",
              " 'Воронеж',\n",
              " 'Пермь',\n",
              " 'Волгоград')"
            ]
          },
          "execution_count": 20,
          "metadata": {},
          "output_type": "execute_result"
        }
      ],
      "source": [
        "import requests\n",
        "import urllib.parse as req\n",
        "path_for_city=req.urlparse('https://ru.wikipedia.org/wiki/Города-миллионеры_России')\n",
        "url=path_for_city.scheme + '://' + req.quote(path_for_city.netloc) + req.quote(path_for_city.path) + '#' +req.quote(path_for_city.fragment)\n",
        "mill_city=pd.read_html(url)[1]\n",
        "city_for_query=tuple(mill_city['Город'].to_list())\n",
        "city_for_query"
      ]
    },
    {
      "cell_type": "code",
      "execution_count": 21,
      "id": "5a0e32a4-e68a-4365-8a39-2fe24c542c36",
      "metadata": {
        "id": "5a0e32a4-e68a-4365-8a39-2fe24c542c36"
      },
      "outputs": [
        {
          "name": "stderr",
          "output_type": "stream",
          "text": [
            "C:\\Users\\Asus\\AppData\\Local\\Temp\\ipykernel_4844\\1588392773.py:25: UserWarning: pandas only supports SQLAlchemy connectable (engine/connection) or database string URI or sqlite3 DBAPI2 connection. Other DBAPI2 objects are not tested. Please consider using SQLAlchemy.\n",
            "  df_mln_clty=pd.read_sql_query(query, connection)\n"
          ]
        },
        {
          "name": "stdout",
          "output_type": "stream",
          "text": [
            "               name    cnt\n",
            "0              Омск   21.0\n",
            "1         Челябинск   22.0\n",
            "2        Красноярск   23.0\n",
            "3         Волгоград   24.0\n",
            "4             Пермь   25.0\n",
            "5            Казань   25.0\n",
            "6    Ростов-на-Дону   25.0\n",
            "7               Уфа   26.0\n",
            "8            Самара   26.0\n",
            "9         Краснодар   30.0\n",
            "10          Воронеж   32.0\n",
            "11      Новосибирск   35.0\n",
            "12  Нижний Новгород   36.0\n",
            "13     Екатеринбург   39.0\n",
            "14  Санкт-Петербург   42.0\n",
            "15           Москва   54.0\n",
            "16            Total  485.0\n"
          ]
        }
      ],
      "source": [
        "connection=psycopg2.connect(\n",
        "    dbname=DBNAME,\n",
        "    host=HOST,\n",
        "    port=PORT,\n",
        "    password=PASSWORD,\n",
        "    user=USER\n",
        ")\n",
        "\n",
        "query=f'''with temp as (select A.name,\n",
        "        COUNT(V.id) as cnt\n",
        "        from \n",
        "            public.employers as E\n",
        "        join public.vacancies as V on E.id=V.employer_id\n",
        "        join public.areas as A on V.area_id=A.id\n",
        "        where E.name='Яндекс'\n",
        "        group by A.name\n",
        "        having A.name in {city_for_query}\n",
        "        order by 2 ASC)\n",
        "        select *\n",
        "        from temp\n",
        "        union ALL\n",
        "        select 'Total', sum(cnt) from temp\n",
        "        '''\n",
        "\n",
        "df_mln_clty=pd.read_sql_query(query, connection)\n",
        "print(df_mln_clty)\n",
        "\n",
        "connection.close()"
      ]
    },
    {
      "cell_type": "markdown",
      "id": "04966e40-3bc3-4dc8-9ba2-e80580ce3abc",
      "metadata": {
        "id": "04966e40-3bc3-4dc8-9ba2-e80580ce3abc"
      },
      "source": [
        "***"
      ]
    },
    {
      "cell_type": "code",
      "execution_count": 22,
      "id": "aGGyER-yt4SR",
      "metadata": {
        "id": "aGGyER-yt4SR"
      },
      "outputs": [],
      "source": [
        "# 1. Самый распространный работодатель - Яндекс. Его вакансии присутствуют в 181 регионе, при этом 1/4 часть вакансий этого\n",
        "# работодателя числится в регионах-миллиониках.\n",
        "# 2. Примерно у 35% всех вакансий не указана сфера деятельности.\n",
        "# 3. Примерно 15% вакансий свяхано с разработкой программного обеспечения"
      ]
    },
    {
      "cell_type": "markdown",
      "id": "b1ef156a-efcb-49ce-bb23-90763e7f35b2",
      "metadata": {
        "id": "b1ef156a-efcb-49ce-bb23-90763e7f35b2",
        "tags": []
      },
      "source": [
        "# Юнит 6. Предметный анализ"
      ]
    },
    {
      "cell_type": "markdown",
      "id": "b9cd50a0-992d-4988-8463-2b2b1c4629b4",
      "metadata": {
        "id": "b9cd50a0-992d-4988-8463-2b2b1c4629b4"
      },
      "source": [
        "1. Сколько вакансий имеет отношение к данным?\n",
        "\n",
        "Считаем, что вакансия имеет отношение к данным, если в её названии содержатся слова 'data' или 'данн'.\n",
        "\n",
        "*Подсказка: Обратите внимание, что названия вакансий могут быть написаны в любом регистре.* \n"
      ]
    },
    {
      "cell_type": "code",
      "execution_count": 23,
      "id": "54ab0e50-c0f1-47cc-a54b-bc5c8bc363f9",
      "metadata": {
        "id": "54ab0e50-c0f1-47cc-a54b-bc5c8bc363f9"
      },
      "outputs": [
        {
          "name": "stderr",
          "output_type": "stream",
          "text": [
            "C:\\Users\\Asus\\AppData\\Local\\Temp\\ipykernel_4844\\2822722549.py:15: UserWarning: pandas only supports SQLAlchemy connectable (engine/connection) or database string URI or sqlite3 DBAPI2 connection. Other DBAPI2 objects are not tested. Please consider using SQLAlchemy.\n",
            "  df_vac_data=pd.read_sql_query(query, connection)\n"
          ]
        },
        {
          "name": "stdout",
          "output_type": "stream",
          "text": [
            "   кол-во вакансий по data\n",
            "0                     1771\n"
          ]
        }
      ],
      "source": [
        "connection=psycopg2.connect(\n",
        "    dbname=DBNAME,\n",
        "    host=HOST,\n",
        "    user=USER,\n",
        "    password=PASSWORD,\n",
        "    port=PORT\n",
        ")\n",
        "\n",
        "query=f'''select COUNT(vacancies.name) as \"кол-во вакансий по data\"\n",
        "        from\n",
        "            public.vacancies\n",
        "            where lower(name) LIKE '%данн%' or lower(name) LIKE '%data%'\n",
        "        '''\n",
        "\n",
        "df_vac_data=pd.read_sql_query(query, connection)\n",
        "print(df_vac_data)\n",
        "\n",
        "connection.close()"
      ]
    },
    {
      "cell_type": "markdown",
      "id": "4dea20cb-a36b-474a-a0b9-e08e8e3857a5",
      "metadata": {
        "id": "4dea20cb-a36b-474a-a0b9-e08e8e3857a5"
      },
      "source": [
        "2. Сколько есть подходящих вакансий для начинающего дата-сайентиста? \n",
        "Будем считать вакансиями для дата-сайентистов такие, в названии которых есть хотя бы одно из следующих сочетаний:\n",
        "* 'data scientist'\n",
        "* 'data science'\n",
        "* 'исследователь данных'\n",
        "* 'ML' (здесь не нужно брать вакансии по HTML)\n",
        "* 'machine learning'\n",
        "* 'машинн%обучен%'\n",
        "\n",
        "** В следующих заданиях мы продолжим работать с вакансиями по этому условию.*\n",
        "\n",
        "Считаем вакансиями для специалистов уровня Junior следующие:\n",
        "* в названии есть слово 'junior' *или*\n",
        "* требуемый опыт — Нет опыта *или*\n",
        "* тип трудоустройства — Стажировка.\n",
        " "
      ]
    },
    {
      "cell_type": "code",
      "execution_count": 25,
      "id": "9c61b3c0-bb66-46c9-ae1e-81d3f5752b4a",
      "metadata": {
        "id": "9c61b3c0-bb66-46c9-ae1e-81d3f5752b4a"
      },
      "outputs": [
        {
          "name": "stderr",
          "output_type": "stream",
          "text": [
            "C:\\Users\\Asus\\AppData\\Local\\Temp\\ipykernel_4844\\891005528.py:30: UserWarning: pandas only supports SQLAlchemy connectable (engine/connection) or database string URI or sqlite3 DBAPI2 connection. Other DBAPI2 objects are not tested. Please consider using SQLAlchemy.\n",
            "  df_cond_DS=pd.read_sql_query(query, connection)\n"
          ]
        },
        {
          "name": "stdout",
          "output_type": "stream",
          "text": [
            "   count\n",
            "0     51\n"
          ]
        }
      ],
      "source": [
        "connection=psycopg2.connect(\n",
        "    dbname=DBNAME,\n",
        "    host=HOST,\n",
        "    user=USER,\n",
        "    password=PASSWORD,\n",
        "    port=PORT\n",
        ")\n",
        "\n",
        "query=f'''select COUNT(*)\n",
        "        from\n",
        "            public.vacancies v\n",
        "        where \n",
        "        (\n",
        "        v.name ILIKE '%data scientist%' or\n",
        "        v.name ILIKE '%data science%' or\n",
        "        v.name ILIKE '%исследователь данных%' or\n",
        "        (v.name ILIKE '%ML%' AND v.name NOT ILIKE '%HTML%') or\n",
        "        v.name ILIKE '%machine learning%' or\n",
        "        v.name ILIKE '%машинн%обучен%'\n",
        "        )\n",
        "        and \n",
        "        (\n",
        "        v.name ILIKE '%junior%' or\n",
        "        v.experience='Нет опыта' or\n",
        "        v.employment ILIKE '%стажировка%'  \n",
        "        )\n",
        "        \n",
        "        '''\n",
        "\n",
        "df_cond_DS=pd.read_sql_query(query, connection)\n",
        "print(df_cond_DS)\n",
        "\n",
        "connection.close()"
      ]
    },
    {
      "cell_type": "markdown",
      "id": "eedceb80-c5ca-480e-b27a-278dfb8b4438",
      "metadata": {
        "id": "eedceb80-c5ca-480e-b27a-278dfb8b4438"
      },
      "source": [
        "3. Сколько есть вакансий для DS, в которых в качестве ключевого навыка указан SQL или postgres?\n",
        "\n",
        "** Критерии для отнесения вакансии к DS указаны в предыдущем задании.*"
      ]
    },
    {
      "cell_type": "code",
      "execution_count": 26,
      "id": "69621713-0cc5-4f1b-a1d7-bb144fa6148c",
      "metadata": {
        "id": "69621713-0cc5-4f1b-a1d7-bb144fa6148c"
      },
      "outputs": [],
      "source": [
        "connection=psycopg2.connect(\n",
        "    dbname=DBNAME,\n",
        "    host=HOST,\n",
        "    user=USER,\n",
        "    password=PASSWORD,\n",
        "    port=PORT\n",
        ")\n",
        "\n",
        "query_6_3= f'''select count(*)\n",
        "    from\n",
        "        public.vacancies\n",
        "    where\n",
        "        (\n",
        "        lower(name) like '%data scientist%'  or\n",
        "        lower(name) like '%data science%' or\n",
        "        lower(name) like '%исследователь данных%'  or\n",
        "        (name like '%ML%' and name not ilike '%HTML%')  or\n",
        "        lower(name) like '%machine learning%'  or\n",
        "        lower(name) like '%машинн%обучен%'\n",
        "        )\n",
        "        and\n",
        "        (\n",
        "        key_skills ilike '%SQL%' or\n",
        "        key_skills like '%postgres%'\n",
        "        )\n",
        "            '''"
      ]
    },
    {
      "cell_type": "code",
      "execution_count": 27,
      "id": "alA8WEAAvGdf",
      "metadata": {
        "id": "alA8WEAAvGdf"
      },
      "outputs": [
        {
          "name": "stderr",
          "output_type": "stream",
          "text": [
            "C:\\Users\\Asus\\AppData\\Local\\Temp\\ipykernel_4844\\554182748.py:1: UserWarning: pandas only supports SQLAlchemy connectable (engine/connection) or database string URI or sqlite3 DBAPI2 connection. Other DBAPI2 objects are not tested. Please consider using SQLAlchemy.\n",
            "  df=pd.read_sql_query(query_6_3, connection)\n"
          ]
        }
      ],
      "source": [
        "df=pd.read_sql_query(query_6_3, connection)\n",
        "df\n",
        "connection.close()"
      ]
    },
    {
      "cell_type": "markdown",
      "id": "1be1e9c6-37cf-4a5f-bfeb-04cab799dc80",
      "metadata": {
        "id": "1be1e9c6-37cf-4a5f-bfeb-04cab799dc80"
      },
      "source": [
        "4. Проверьте, насколько популярен Python в требованиях работодателей к DS.Для этого вычислите количество вакансий, в которых в качестве ключевого навыка указан Python.\n",
        "\n",
        "** Это можно сделать помощью запроса, аналогичного предыдущему.*"
      ]
    },
    {
      "cell_type": "code",
      "execution_count": 28,
      "id": "0036a355-9ccf-4564-8b01-73d8194297e7",
      "metadata": {
        "id": "0036a355-9ccf-4564-8b01-73d8194297e7"
      },
      "outputs": [],
      "source": [
        "connection=psycopg2.connect(\n",
        "    dbname=DBNAME,\n",
        "    host=HOST,\n",
        "    user=USER,\n",
        "    password=PASSWORD,\n",
        "    port=PORT\n",
        ")\n",
        "\n",
        "query_6_4=f'''select COUNT(*)\n",
        "    from\n",
        "        public.vacancies\n",
        "    where\n",
        "        (\n",
        "        lower(name) like '%data scientist%'  or\n",
        "        lower(name) like '%data science%' or\n",
        "        lower(name) like '%исследователь данных%'  or\n",
        "        (name like '%ML%' and name not ilike '%HTML%')  or\n",
        "        lower(name) like '%machine learning%'  or\n",
        "        lower(name) like '%машинн%обучен%'\n",
        "        )\n",
        "        and\n",
        "        (\n",
        "        key_skills ilike '%python%'\n",
        "        )\n",
        "        '''"
      ]
    },
    {
      "cell_type": "code",
      "execution_count": 29,
      "id": "1i-5WyucvQ6v",
      "metadata": {
        "id": "1i-5WyucvQ6v"
      },
      "outputs": [
        {
          "name": "stderr",
          "output_type": "stream",
          "text": [
            "C:\\Users\\Asus\\AppData\\Local\\Temp\\ipykernel_4844\\3356478817.py:1: UserWarning: pandas only supports SQLAlchemy connectable (engine/connection) or database string URI or sqlite3 DBAPI2 connection. Other DBAPI2 objects are not tested. Please consider using SQLAlchemy.\n",
            "  df=pd.read_sql_query(query_6_4, connection)\n"
          ]
        }
      ],
      "source": [
        "df=pd.read_sql_query(query_6_4, connection)\n",
        "df\n",
        "connection.close()"
      ]
    },
    {
      "cell_type": "markdown",
      "id": "ec3c8db7-fa21-4a41-a994-1af63742a642",
      "metadata": {
        "id": "ec3c8db7-fa21-4a41-a994-1af63742a642"
      },
      "source": [
        "5. Сколько ключевых навыков в среднем указывают в вакансиях для DS?\n",
        "Ответ округлите до двух знаков после точки-разделителя."
      ]
    },
    {
      "cell_type": "code",
      "execution_count": 44,
      "id": "949132bc-d5b6-4611-8218-0b9a504d74f4",
      "metadata": {
        "id": "949132bc-d5b6-4611-8218-0b9a504d74f4"
      },
      "outputs": [],
      "source": [
        "connection=psycopg2.connect(\n",
        "    dbname=DBNAME,\n",
        "    host=HOST,\n",
        "    user=USER,\n",
        "    password=PASSWORD,\n",
        "    port=PORT\n",
        ")\n",
        "\n",
        "query_6_5=f'''select round(avg(length(key_skills)-length(replace(key_skills, CHR(9), ''))+1), 3) as res\n",
        "    from\n",
        "        public.vacancies v\n",
        "    where\n",
        "        (\n",
        "        name like '%data scientist%'  or\n",
        "        name like '%data science%' or\n",
        "        name like '%исследователь данных%'  or\n",
        "        (name like '%ML%' and name not ilike '%HTML%')  or\n",
        "        name like '%machine learning%'  or\n",
        "        name like '%машинн%обучен%'\n",
        "        )\n",
        "        '''"
      ]
    },
    {
      "cell_type": "code",
      "execution_count": 45,
      "id": "a3V24Tvmviqk",
      "metadata": {
        "id": "a3V24Tvmviqk"
      },
      "outputs": [
        {
          "name": "stderr",
          "output_type": "stream",
          "text": [
            "C:\\Users\\Asus\\AppData\\Local\\Temp\\ipykernel_4844\\3971394806.py:1: UserWarning: pandas only supports SQLAlchemy connectable (engine/connection) or database string URI or sqlite3 DBAPI2 connection. Other DBAPI2 objects are not tested. Please consider using SQLAlchemy.\n",
            "  df=pd.read_sql_query(query_6_5, connection)\n"
          ]
        },
        {
          "name": "stdout",
          "output_type": "stream",
          "text": [
            "     res\n",
            "0  6.404\n"
          ]
        }
      ],
      "source": [
        "df=pd.read_sql_query(query_6_5, connection)\n",
        "print(df)\n",
        "connection.close()"
      ]
    },
    {
      "cell_type": "markdown",
      "id": "1041c17a-ca8f-4543-a0ca-32778914fb00",
      "metadata": {
        "id": "1041c17a-ca8f-4543-a0ca-32778914fb00"
      },
      "source": [
        "6. Напишите запрос, позволяющий вычислить, какую зарплату для DS в **среднем** указывают для каждого типа требуемого опыта (уникальное значение из поля *experience*). \n",
        "\n",
        "При решении задачи примите во внимание следующее:\n",
        "1. Рассматриваем только вакансии, у которых заполнено хотя бы одно из двух полей с зарплатой.\n",
        "2. Если заполнены оба поля с зарплатой, то считаем зарплату по каждой вакансии как сумму двух полей, делённую на 2. Если заполнено только одно из полей, то его и считаем зарплатой по вакансии.\n",
        "3. Если в расчётах участвует null, в результате он тоже даст null (посмотрите, что возвращает запрос select 1 + null). Чтобы избежать этой ситуацию, мы воспользуемся функцией [coalesce](https://postgrespro.ru/docs/postgresql/9.5/functions-conditional#functions-coalesce-nvl-ifnull), которая заменит null на значение, которое мы передадим. Например, посмотрите, что возвращает запрос `select 1 + coalesce(null, 0)`\n",
        "\n",
        "Выясните, на какую зарплату в среднем может рассчитывать дата-сайентист с опытом работы от 3 до 6 лет. Результат округлите до целого числа. "
      ]
    },
    {
      "cell_type": "code",
      "execution_count": 46,
      "id": "6a743d39-5204-48d3-8271-b9f88e68d40e",
      "metadata": {
        "id": "6a743d39-5204-48d3-8271-b9f88e68d40e"
      },
      "outputs": [],
      "source": [
        "connection=psycopg2.connect(\n",
        "    dbname=DBNAME,\n",
        "    host=HOST,\n",
        "    user=USER,\n",
        "    password=PASSWORD,\n",
        "    port=PORT\n",
        ")\n",
        "\n",
        "query_6_6=f'''select experience as \"опыт работы\",\n",
        "    round(avg(coalesce((salary_from + salary_to) / 2, salary_from, salary_to)), 0) as \"avg zp\"\n",
        "FROM public.vacancies v\n",
        "where \n",
        "(\n",
        "  name ilike '%data scientist%'or\n",
        "  name ilike '%data science%'or\n",
        "  name ilike '%исследователь данных%'or\n",
        "  (name like '%ML%' and name not ilike '%HTML%') or\n",
        "  name ilike '%machine learning%' or name ilike '%машинн%обучен%'\n",
        ")\n",
        "AND experience = 'От 3 до 6 лет'\n",
        "AND (salary_from IS NOT NULL OR salary_to IS NOT NULL)\n",
        "GROUP BY experience\n",
        "'''"
      ]
    },
    {
      "cell_type": "code",
      "execution_count": 47,
      "id": "aRIJ0mZEwU1_",
      "metadata": {
        "id": "aRIJ0mZEwU1_"
      },
      "outputs": [
        {
          "name": "stderr",
          "output_type": "stream",
          "text": [
            "C:\\Users\\Asus\\AppData\\Local\\Temp\\ipykernel_4844\\2913911421.py:1: UserWarning: pandas only supports SQLAlchemy connectable (engine/connection) or database string URI or sqlite3 DBAPI2 connection. Other DBAPI2 objects are not tested. Please consider using SQLAlchemy.\n",
            "  df=pd.read_sql_query(query_6_6, connection)\n"
          ]
        },
        {
          "name": "stdout",
          "output_type": "stream",
          "text": [
            "     опыт работы    avg zp\n",
            "0  От 3 до 6 лет  243115.0\n"
          ]
        }
      ],
      "source": [
        "df=pd.read_sql_query(query_6_6, connection)\n",
        "print(df)\n",
        "connection.close()"
      ]
    },
    {
      "cell_type": "markdown",
      "id": "6a7892b4-4113-4746-adce-18aa2844f18e",
      "metadata": {
        "id": "6a7892b4-4113-4746-adce-18aa2844f18e"
      },
      "source": [
        "***"
      ]
    },
    {
      "cell_type": "code",
      "execution_count": null,
      "id": "UjLWUptVwY1o",
      "metadata": {
        "id": "UjLWUptVwY1o"
      },
      "outputs": [],
      "source": [
        "# 1. Если я правильно понял, вакансии по DS составляют около 7% от всех вакансий на рынке.\n",
        "# 2. Что очень печально - вакансий для начинающего дата саентиста критически мало(51 вакансия из почки 25К вакансий), \n",
        "# тут как и везде, требуют опыт, который как обычно не заработать не устроившись на работу(откуда его в принципе взять,\n",
        "# если без опыта не берут...)\n",
        "# 3. ОЧень впечатлила средняя ЗП у специаоистов DS с опытом работы от 3 до 6 лет...даже не так. ОЧЕНЬ, ОЧЕНЬ..."
      ]
    },
    {
      "cell_type": "markdown",
      "id": "c0ED6fh7wiBT",
      "metadata": {
        "id": "c0ED6fh7wiBT"
      },
      "source": [
        "# Общий вывод по проекту"
      ]
    },
    {
      "cell_type": "code",
      "execution_count": null,
      "id": "h9B3BL-wwj18",
      "metadata": {
        "id": "h9B3BL-wwj18"
      },
      "outputs": [],
      "source": [
        "# Вывода по поекту особо нет. Сделал один важный для себя вывод: начал выгорать по мере прохождения данного модуля, \n",
        "# да и заниматься этим необходимо каждый день, а не раз в неделю."
      ]
    }
  ],
  "metadata": {
    "colab": {
      "collapsed_sections": [
        "8d62a9f3-f64e-4fe7-bdac-c4dffa16155e"
      ],
      "provenance": []
    },
    "kernelspec": {
      "display_name": "Python 3 (ipykernel)",
      "language": "python",
      "name": "python3"
    },
    "language_info": {
      "codemirror_mode": {
        "name": "ipython",
        "version": 3
      },
      "file_extension": ".py",
      "mimetype": "text/x-python",
      "name": "python",
      "nbconvert_exporter": "python",
      "pygments_lexer": "ipython3",
      "version": "3.9.10"
    }
  },
  "nbformat": 4,
  "nbformat_minor": 5
}
